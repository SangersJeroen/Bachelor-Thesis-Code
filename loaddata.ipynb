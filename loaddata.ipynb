{
 "metadata": {
  "orig_nbformat": 2,
  "kernelspec": {
   "name": "eftem",
   "display_name": "eftem",
   "language": "python"
  }
 },
 "nbformat": 4,
 "nbformat_minor": 2,
 "cells": [
  {
   "cell_type": "code",
   "execution_count": 3,
   "metadata": {},
   "outputs": [],
   "source": [
    "from ncempy import io\n",
    "import numpy as np\n",
    "import matplotlib.pyplot as plt\n",
    "from matplotlib.animation import FuncAnimation, writers\n",
    "from mpl_toolkits.mplot3d import Axes3D"
   ]
  },
  {
   "cell_type": "code",
   "execution_count": null,
   "metadata": {},
   "outputs": [],
   "source": [
    "#loaded_data = io.dm.dmReader(\"EFTEM-SI_01 [0,35] eV_cor.dm4\")\n"
   ]
  },
  {
   "cell_type": "code",
   "execution_count": null,
   "metadata": {},
   "outputs": [],
   "source": [
    "#print(loaded_data)"
   ]
  },
  {
   "cell_type": "code",
   "execution_count": null,
   "metadata": {},
   "outputs": [],
   "source": [
    "#data_cube = loaded_data[\"data\"]"
   ]
  },
  {
   "cell_type": "code",
   "execution_count": null,
   "metadata": {},
   "outputs": [],
   "source": [
    "#Saving the file in numpy for later use\n",
    "#np.save(\"data/data_cube\", data_cube)"
   ]
  },
  {
   "cell_type": "code",
   "execution_count": 4,
   "metadata": {},
   "outputs": [],
   "source": [
    "data_cube = np.load(\"data/data_cube.npy\")\n",
    "#This seems to be quicker"
   ]
  },
  {
   "cell_type": "code",
   "execution_count": null,
   "metadata": {},
   "outputs": [],
   "source": [
    "fig = plt.figure()\n",
    "fig.set_size_inches((12,6))\n",
    "\n",
    "ax1 = fig.add_subplot(1,2,1)\n",
    "ax2 = fig.add_subplot(1,2,2, projection=\"3d\")\n",
    "\n",
    "tmp = np.arange(2)\n",
    "xtmp, ytmp = np.meshgrid(tmp,tmp)\n",
    "slicetmp = 0*xtmp*ytmp + 1\n",
    "\n",
    "x = np.arange(2048)\n",
    "\n",
    "def init():\n",
    "    ax1.set_title(\"X-Y data per slice\")\n",
    "    ax1.set_xlabel(\"x\")\n",
    "    ax1.set_ylabel(\"y\")\n",
    "    ax1.pcolorfast(x, x, data_cube[0,:,:])\n",
    "    ax2.contourf(xtmp, ytmp, slicetmp, zdir=\"z\", offset=0, cmap=\"gray\")\n",
    "    ax2.set_zlim(0,72)\n",
    "\n",
    "def animate(i):\n",
    "    ax1.pcolorfast(x, x, data_cube[i,:,:])\n",
    "    ax1.text(0,0, \"Slice: \"+str(i))\n",
    "    ax2.clear()\n",
    "    ax2.set_zlim(0,72)\n",
    "    ax2.contourf(xtmp, ytmp, slicetmp, zdir=\"z\", offset=i, cmap=\"gray\")\n",
    "\n",
    "anim = FuncAnimation(fig, animate, init_func=init, frames=70, interval=20)\n",
    "anim.save(\"slices.gif\");\n"
   ]
  },
  {
   "source": [
    "<img src=\"slices.gif\" />"
   ],
   "cell_type": "markdown",
   "metadata": {}
  },
  {
   "cell_type": "code",
   "execution_count": null,
   "metadata": {},
   "outputs": [],
   "source": [
    "fig, ax = plt.subplots()\n",
    "fig.set_size_inches((6,6))\n",
    "\n",
    "x = np.arange(2048)\n",
    "\n",
    "def init():\n",
    "    ax.set_title(\"EELS data per x=1024 for y={750...1500}\")\n",
    "    ax.set_xlabel(\"E\")\n",
    "    ax.set_ylabel(\"Intensity?\")\n",
    "    ax.plot( np.arange( data_cube.shape[0] ), data_cube[:,1024,750] )\n",
    "\n",
    "def animate(i):\n",
    "    ax.plot( np.arange( data_cube.shape[0] ), data_cube[:,1024,750+10*i], color=str(1-i/75) )\n",
    "\n",
    "anim = FuncAnimation(fig, animate, init_func=init, frames=75, interval=20)\n",
    "anim.save(\"EELS.gif\");"
   ]
  },
  {
   "source": [
    "<img src=\"EELS.gif\" />"
   ],
   "cell_type": "markdown",
   "metadata": {}
  },
  {
   "cell_type": "code",
   "execution_count": null,
   "metadata": {},
   "outputs": [],
   "source": [
    "x = np.arange(400)\n",
    "X, Y = np.meshgrid(x,x)\n",
    "\n",
    "slice0 = data_cube[10,900:1300,900:1300]\n",
    "slice1 = data_cube[15,900:1300,900:1300]\n",
    "slice2 = data_cube[20,900:1300,900:1300]\n",
    "slice3 = data_cube[25,900:1300,900:1300]\n",
    "slice4 = data_cube[30,900:1300,900:1300]\n",
    "\n",
    "fig = plt.figure()\n",
    "fig.set_size_inches((6,6))\n",
    "ax = fig.add_subplot(111, projection=\"3d\")\n",
    "\n",
    "surface0 = ax.contourf(X, Y, slice0, zdir=\"z\", offset=1, cmap=\"gray\")\n",
    "surface1 = ax.contourf(X, Y, slice1, zdir=\"z\", offset=3, cmap=\"gray\")\n",
    "surface2 = ax.contourf(X, Y, slice2, zdir=\"z\", offset=5, cmap=\"gray\")\n",
    "surface3 = ax.contourf(X, Y, slice2, zdir=\"z\", offset=7, cmap=\"gray\")\n",
    "surface4 = ax.contourf(X, Y, slice2, zdir=\"z\", offset=9, cmap=\"gray\")\n",
    "ax.set_xlabel(\"x\")\n",
    "ax.set_ylabel(\"y\")\n",
    "ax.set_zlabel(\"E\")\n",
    "ax.set_xticks([i for i in range(0,401,100)])\n",
    "ax.set_yticks([i for i in range(0,401,100)])\n",
    "ax.set_zticks([0,3,6,9])\n",
    "ax.set_zlim3d(0,9)\n",
    "ax.set_title(\"EFTEM stack\")\n",
    "\n",
    "plt.savefig('eftemstack.png')"
   ]
  },
  {
   "source": [
    "<img src=\"eftemstack.png\" />"
   ],
   "cell_type": "markdown",
   "metadata": {}
  }
 ]
}