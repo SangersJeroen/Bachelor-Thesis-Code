{
 "metadata": {
  "language_info": {
   "codemirror_mode": {
    "name": "ipython",
    "version": 3
   },
   "file_extension": ".py",
   "mimetype": "text/x-python",
   "name": "python",
   "nbconvert_exporter": "python",
   "pygments_lexer": "ipython3",
   "version": "3.8.5"
  },
  "orig_nbformat": 2,
  "kernelspec": {
   "name": "python385jvsc74a57bd05bfb7e9926f912c0b9fafa425c87eae623ea99e8527c254601e32b5957bc5d7b",
   "display_name": "Python 3.8.5 64-bit ('eftem': venv)"
  }
 },
 "nbformat": 4,
 "nbformat_minor": 2,
 "cells": [
  {
   "cell_type": "code",
   "execution_count": 1,
   "metadata": {},
   "outputs": [],
   "source": [
    "import mreels"
   ]
  },
  {
   "cell_type": "code",
   "execution_count": 2,
   "metadata": {},
   "outputs": [],
   "source": [
    "eels_stack = mreels.MomentumResolvedDataStack('n-inse_C1_EFTEM-SI-001 [-3,36] eV.dm4')"
   ]
  },
  {
   "cell_type": "code",
   "execution_count": 3,
   "metadata": {},
   "outputs": [
    {
     "output_type": "execute_result",
     "data": {
      "text/plain": [
       "<bound method MomentumResolvedDataStack.build_axes of <mreels.MomentumResolvedDataStack object at 0x7f54d6c8ea90>>"
      ]
     },
     "metadata": {},
     "execution_count": 3
    }
   ],
   "source": [
    "eels_stack.build_axes"
   ]
  },
  {
   "cell_type": "code",
   "execution_count": 4,
   "metadata": {},
   "outputs": [],
   "source": [
    "eels_stack.build_axes()"
   ]
  },
  {
   "cell_type": "code",
   "execution_count": null,
   "metadata": {},
   "outputs": [],
   "source": [
    "map, axis = mreels.get_qeels_data(eels_stack.stack, 1000)"
   ]
  }
 ]
}